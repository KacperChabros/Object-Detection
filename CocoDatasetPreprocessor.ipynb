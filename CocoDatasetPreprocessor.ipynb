{
 "cells": [
  {
   "cell_type": "markdown",
   "metadata": {},
   "source": [
    "# Coco dataset Preprocessor\n",
    "\n",
    "The purpose of this notebook is to preprocess given Coco dataset into the correct format that YOLO models desire.  \n",
    "YOLO needs the following directory tree:\n",
    "- images\n",
    "    - train\n",
    "    - val\n",
    "    - test\n",
    " - labels\n",
    "    - train\n",
    "    - val\n",
    "    - test\n",
    "\n",
    "Moreover, labels need to be in the .txt format and the name of the file should be corresponding to the image name. The .txt files should have an appropriate structure. Each bounding box should be placed in the new line and follow the following structure:  \n",
    "\n",
    "**_classId x y width height_**  \n",
    "\n",
    "Where:\n",
    "* classId: Id of the class of an object represented by the bounding box\n",
    "* x: x coordinate of the midpoint of the bounding box (relative to the image width ([0-1] values))\n",
    "* y: y coordinate of the midpoint of the bounding box (relative to the image height ([0-1] values))\n",
    "* width: width of the bounding box (relative to the image width ([0-1] values))\n",
    "* height: height of the bounding box (relative to the image height ([0-1] values))"
   ]
  },
  {
   "cell_type": "code",
   "execution_count": 1,
   "metadata": {},
   "outputs": [],
   "source": [
    "import os\n",
    "import shutil\n",
    "import commonPaths\n",
    "import commonCocoPreprocessingFunctions as preprocFuncs\n",
    "from importlib import reload\n",
    "reload(commonPaths)\n",
    "reload(preprocFuncs);"
   ]
  },
  {
   "cell_type": "code",
   "execution_count": 2,
   "metadata": {},
   "outputs": [],
   "source": [
    "valInstancesJSON = preprocFuncs.getInstancesAsJSON(commonPaths.COCO_VAL_ANNOT_DIR, commonPaths.VAL_ANNOT_FILENAME)\n",
    "valImageIdToPropsAndAnnots = preprocFuncs.associateImageIdWithItsPropsAndAnnots(valInstancesJSON)\n",
    "valCategoryIdToNameAndYoloId = preprocFuncs.associateCategoryIdWithItsNameAndYoloId(valInstancesJSON)"
   ]
  },
  {
   "cell_type": "code",
   "execution_count": 3,
   "metadata": {},
   "outputs": [],
   "source": [
    "def preprocessBoundingBoxCoordinates(bbox, imageHeight, imageWidth):\n",
    "    '''\n",
    "        ### preprocessBoundingBoxCoordinates\n",
    "        takes Coco coordinates of bbox and returns coordinates applicable for YOLO models.\n",
    "\n",
    "        :param bbox: 4 element array: at index 0: X coordinate of top left corner; 1: Y coordinate of top left corner;\n",
    "        2: width of bbox; 3: height of bbox\n",
    "        :param imageHeight: height of the original image\n",
    "        :param imageWidth: width of the original image\n",
    "\n",
    "        :return: 4 elements: xMid: X coordinate of the middle point of the bbox; yMid: Y coordinate \n",
    "        of the middle point of the bbox; width: width of the bbox; height: height of the bbox\n",
    "        Note: every returned value is relative to the image dimensions!\n",
    "    '''\n",
    "    xTopLeft = float(bbox[0])\n",
    "    yTopLeft = float(bbox[1])\n",
    "    width = float(bbox[2])\n",
    "    height = float(bbox[3])\n",
    "    xMid = xTopLeft + width/2\n",
    "    yMid = yTopLeft + height/2\n",
    "    \n",
    "    xMid = round(xMid / imageWidth, 6)\n",
    "    yMid = round(yMid / imageHeight, 6)\n",
    "    width = round(width / imageWidth, 6)\n",
    "    height = round(height / imageHeight, 6)\n",
    "    return xMid, yMid, width, height"
   ]
  },
  {
   "cell_type": "code",
   "execution_count": 4,
   "metadata": {},
   "outputs": [],
   "source": [
    "def createTxtFilesWithBoundingBoxes(destinationDirLabels, imageIdToPropsAndAnnots, categoryIdToNameAndYoloId, safe=True, copyImages=False, sourceDirImages=None, destinationDirImages=None ):\n",
    "    '''\n",
    "        ### createTxtFilesWithBoundingBoxes\n",
    "        function that creates txt files with bbox information that is needed by YOLO models\n",
    "\n",
    "        :param destinationDirLabels: directory in which to create txt files (with trailing slash)\n",
    "        :param imageIdToPropsAndAnnots: directory where key=imageId, value=CocoImage object (e.g. result of associateImageIdWithItsPropsAndAnnots)\n",
    "        :param categoryIdToNameAndYoloId: directory where key=categoryId, value=CocoCategory object (e.g. result of associateCategoryIdWithItsNameAndYoloId)\n",
    "        :param safe: whether to check if the directory is empty before creating files there. Set to True by default. [If set\n",
    "          to False, existing files may be overwritten!]\n",
    "        :param copyImages: whether to copy images as well. Not recommended! It is faster to copy it by hand. Set to False by default\n",
    "        :param sourceDirImages: source directory from which to copy the images. Set to None by default (copying is not recommended)\n",
    "        :param destinationDirImages: destination directory to which to copy the images. Set to None by default (copying is not recommended)\n",
    "    '''\n",
    "    shouldCopyImages = copyImages and sourceDirImages != None and destinationDirImages != None\n",
    "    if(safe):\n",
    "        numberOfFilesInDir = len(os.listdir(destinationDirLabels))\n",
    "        if( numberOfFilesInDir != 0 ):\n",
    "            print(\"The labels destination directory is not empty! If you wish to create files anyway,\" \n",
    "                  +\" run the function with safe=False. Some files may be overwritten!\")\n",
    "            return\n",
    "        if(shouldCopyImages):\n",
    "            numberOfFilesInDir = len(os.listdir(destinationDirImages))\n",
    "            if( numberOfFilesInDir != 0 ):\n",
    "                print(\"The images destination directory is not empty! If you wish to create files anyway,\" \n",
    "                    +\" run the function with safe=False. Some files may be overwritten!\")\n",
    "                return\n",
    "      \n",
    "    for image in imageIdToPropsAndAnnots.values():\n",
    "        fileName = image.fileName\n",
    "        imageHeight = image.height\n",
    "        imageWidth = image.width\n",
    "        fileName = fileName.split(\".\")[0]+\".txt\"\n",
    "\n",
    "        if(shouldCopyImages):\n",
    "            shutil.copy(sourceDirImages+image.fileName, destinationDirImages+image.fileName)\n",
    "\n",
    "        file = open(destinationDirLabels+fileName, 'w')\n",
    "        firstAnnot = True\n",
    "        for ann in image.annotations:\n",
    "            \n",
    "            bbox = ann['bbox']\n",
    "            yoloId = categoryIdToNameAndYoloId[ann[\"category_id\"]].yoloId\n",
    "\n",
    "            x, y, width, height = preprocessBoundingBoxCoordinates(bbox, imageHeight, imageWidth)\n",
    "            line = str(yoloId) + \" \" + str(x) + \" \" + str(y) + \" \" + str(width) + \" \" + str(height)\n",
    "            if(not firstAnnot):\n",
    "                line = \"\\n\" + line\n",
    "            firstAnnot = False\n",
    "\n",
    "            file.write(line)\n",
    "        file.close()"
   ]
  },
  {
   "cell_type": "code",
   "execution_count": 5,
   "metadata": {},
   "outputs": [],
   "source": [
    "createTxtFilesWithBoundingBoxes(commonPaths.YOLO_VAL_LABELS_DIR, valImageIdToPropsAndAnnots, valCategoryIdToNameAndYoloId)"
   ]
  },
  {
   "cell_type": "code",
   "execution_count": 6,
   "metadata": {},
   "outputs": [],
   "source": [
    "def createConfigFile(configFilePath, yoloDirectory, relativeImgTrainDir, relativeImgValDir, categoryIdToNameAndYoloId):\n",
    "    '''\n",
    "        ### createConfigFile\n",
    "        creates appropriate config file for YOLO models.\n",
    "\n",
    "        :param configFilePath: path to config file\n",
    "        :param yoloDirectory: path to directory containing appropriate directory structure with images and labels\n",
    "        :param relativeImgTrainDir: name of the directory with training images. Relative to yoloDirectory\n",
    "        :param relativeImgValDir: name of the directory with validation images. Relative to yoloDirectory\n",
    "        :param categoryIdToNameAndYoloId: directory where key=categoryId, value=CocoCategory object (e.g. result of associateCategoryIdWithItsNameAndYoloId)\n",
    "    '''\n",
    "    if(os.path.isfile(configFilePath)):\n",
    "        print(\"Config file already exists!\")\n",
    "        return\n",
    "    line1 = \"path: \" + yoloDirectory + \"\\n\"\n",
    "    line2 = \"train: \" + relativeImgTrainDir + \"\\n\"\n",
    "    line3 = \"val: \" + relativeImgValDir + \"\\n\\n\\n\"\n",
    "    line4 = \"names:\"\n",
    "    file = open(configFilePath, \"w\")\n",
    "    file.write(line1)\n",
    "    file.write(line2)\n",
    "    file.write(line3)\n",
    "    file.write(line4)\n",
    "    for cat in categoryIdToNameAndYoloId.values():\n",
    "        line = \"\\n\\t\" + str(cat.yoloId) + \": \\\"\" + cat.categoryName +\"\\\"\"\n",
    "        file.write(line)\n",
    "    file.close()"
   ]
  },
  {
   "cell_type": "code",
   "execution_count": 7,
   "metadata": {},
   "outputs": [],
   "source": [
    "createConfigFile(commonPaths.YOLO_CONFIG_FILE, commonPaths.YOLO_DATA_DIR[:-1], \"images/train\", \"images/val\", valCategoryIdToNameAndYoloId)"
   ]
  }
 ],
 "metadata": {
  "kernelspec": {
   "display_name": "MLenv",
   "language": "python",
   "name": "python3"
  },
  "language_info": {
   "codemirror_mode": {
    "name": "ipython",
    "version": 3
   },
   "file_extension": ".py",
   "mimetype": "text/x-python",
   "name": "python",
   "nbconvert_exporter": "python",
   "pygments_lexer": "ipython3",
   "version": "3.10.12"
  }
 },
 "nbformat": 4,
 "nbformat_minor": 2
}
