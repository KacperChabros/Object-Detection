{
 "cells": [
  {
   "cell_type": "markdown",
   "metadata": {},
   "source": [
    "# Results Analysis"
   ]
  },
  {
   "cell_type": "code",
   "execution_count": 109,
   "metadata": {},
   "outputs": [],
   "source": [
    "import numpy as np\n",
    "import pandas as pd\n",
    "import matplotlib.pyplot as plt\n",
    "import seaborn as sns\n",
    "import commonPaths\n",
    "from collections import OrderedDict\n",
    "import os"
   ]
  },
  {
   "cell_type": "code",
   "execution_count": 110,
   "metadata": {},
   "outputs": [],
   "source": [
    "modelNames = [\"yolov8n\", \"yolov8s\", \"yolov8m\", \"yolov8l\", \"yolov8x\"]"
   ]
  },
  {
   "cell_type": "code",
   "execution_count": 111,
   "metadata": {},
   "outputs": [],
   "source": [
    "def providePathsForResultsAnalysis(forTrain):\n",
    "    '''\n",
    "        ### providePathsForResultsAnalysis\n",
    "        provides paths for the results analysis.\n",
    "        There are different paths whether one wants to preprocess train or val set.\n",
    "        :param forTrain: defines if paths should be returned for train set. (They will be for val set otherwise)\n",
    "        :return: dictionary with paths to directories applicable for test or val set\n",
    "    '''\n",
    "    paths = {}\n",
    "    if (forTrain):\n",
    "        paths[\"SPEED_RESULTS\"] = commonPaths.SPEED_RESULTS_TRAIN_FILE\n",
    "        paths[\"MAP_RESULTS_DIR\"] = commonPaths.MAP_RESULTS_TRAIN_DIR\n",
    "    else:\n",
    "        paths[\"SPEED_RESULTS\"] = commonPaths.SPEED_RESULTS_VAL_FILE\n",
    "        paths[\"MAP_RESULTS_DIR\"] = commonPaths.MAP_RESULTS_VAL_DIR\n",
    "\n",
    "    paths[\"PARAMETERS_DATA\"] = commonPaths.PARAMETERS_DATA\n",
    "    return paths"
   ]
  },
  {
   "cell_type": "code",
   "execution_count": 112,
   "metadata": {},
   "outputs": [],
   "source": [
    "def readData(modelNames, isTrain=False):\n",
    "    '''\n",
    "      ### readData\n",
    "      reads data about parameters, speed results and mAP from data directory.\n",
    "      \n",
    "      :param modelNames: list with the names of models matching those in file names (without .pt)\n",
    "      :param isTrain: defines if data should be returned for train set. (The data will be for val set otherwise)\n",
    "      :return parametersData: DataFrame with YOLO model name and number of parameters in Millions\n",
    "      :return speedResults: DataFrame with YOLO model name and time needed for making predictions in seconds.\n",
    "      :return mAPResults: Dictionary where: Key=YOLO model name, Value=DataFrame with 2 columns: Category and Average Precision\n",
    "    '''\n",
    "    paths = providePathsForResultsAnalysis(isTrain)\n",
    "    parametersData = pd.read_csv(paths[\"PARAMETERS_DATA\"], index_col=0)\n",
    "    parametersData.columns = [\"Parameters (M)\"]\n",
    "    speedResults = pd.read_csv(paths[\"SPEED_RESULTS\"], index_col=0)\n",
    "    speedResults.columns = [\"Time (sec)\"]\n",
    "    mAPResults = OrderedDict().fromkeys(modelNames)\n",
    "    for file in os.listdir(paths[\"MAP_RESULTS_DIR\"]):\n",
    "       name = file.split(\"_\")[-1].split(\".\")[0]\n",
    "       mAP = pd.read_csv(paths[\"MAP_RESULTS_DIR\"]+file, header=None)\n",
    "       mAP.columns = [\"Category\", \"Average Precision\"]\n",
    "       mAPResults[name] = mAP\n",
    "    return parametersData, speedResults, mAPResults"
   ]
  },
  {
   "cell_type": "code",
   "execution_count": 113,
   "metadata": {},
   "outputs": [],
   "source": [
    "parametersDataVal, speedResultsVal, mAPResultsVal = readData(modelNames)"
   ]
  },
  {
   "cell_type": "code",
   "execution_count": 114,
   "metadata": {},
   "outputs": [],
   "source": [
    "parametersDataTrain, speedResultsTrain, mAPResultsTrain = readData(modelNames, isTrain=True)"
   ]
  },
  {
   "cell_type": "code",
   "execution_count": 115,
   "metadata": {},
   "outputs": [],
   "source": [
    "def calculateMAP(mAPResults):\n",
    "    '''\n",
    "        ### calculateMAP\n",
    "        calculates mAP over all classes for each model and creates a dictionary.\n",
    "\n",
    "        :param mAPResults: Dictionary where: Key=YOLO model name, Value=DataFrame with 2 columns: Category and Average Precision\n",
    "        :return: Dictionary where: Key=YOLO model name, Value=mAP averaged over all classes\n",
    "    '''\n",
    "    mAPs = OrderedDict()\n",
    "    for name, result in mAPResults.items():\n",
    "        mAPs[name] = result.iloc[:,-1].sum() / result.shape[0]\n",
    "    return mAPs"
   ]
  },
  {
   "cell_type": "code",
   "execution_count": 116,
   "metadata": {},
   "outputs": [],
   "source": [
    "mAPsVal = calculateMAP(mAPResultsVal)\n",
    "mAPsTrain = calculateMAP(mAPResultsTrain)"
   ]
  },
  {
   "cell_type": "markdown",
   "metadata": {},
   "source": [
    "# TODO\n",
    "* bar plot - parameters, speed, mAP\n",
    "* line plot - mAP x parameters, mAP x speed"
   ]
  }
 ],
 "metadata": {
  "kernelspec": {
   "display_name": "MLenv",
   "language": "python",
   "name": "python3"
  },
  "language_info": {
   "codemirror_mode": {
    "name": "ipython",
    "version": 3
   },
   "file_extension": ".py",
   "mimetype": "text/x-python",
   "name": "python",
   "nbconvert_exporter": "python",
   "pygments_lexer": "ipython3",
   "version": "3.10.12"
  }
 },
 "nbformat": 4,
 "nbformat_minor": 2
}
