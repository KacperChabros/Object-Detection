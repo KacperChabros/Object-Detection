{
 "cells": [
  {
   "cell_type": "markdown",
   "metadata": {},
   "source": [
    "# Yolo Speed Tests\n",
    "The aim of this notebook is to perform speed tests on YOLO models in order to discover the relation between the increase in time needed for making predictions and the increase in mAP. Tests are performed on COCO train and validation set. They are saved to .csv files"
   ]
  },
  {
   "cell_type": "code",
   "execution_count": 1,
   "metadata": {},
   "outputs": [],
   "source": [
    "import os\n",
    "from tqdm import tqdm\n",
    "from ultralytics import YOLO\n",
    "import pandas as pd\n",
    "import math as m\n",
    "import time\n",
    "import commonCocoPreprocessingFunctions as preprocFuncs"
   ]
  },
  {
   "cell_type": "code",
   "execution_count": 2,
   "metadata": {},
   "outputs": [],
   "source": [
    "models = []\n",
    "models.append(YOLO('yolov8n.pt').to('cuda'))\n",
    "models.append(YOLO('yolov8s.pt').to('cuda'))\n",
    "models.append(YOLO('yolov8m.pt').to('cuda'))\n",
    "models.append(YOLO('yolov8l.pt').to('cuda'))\n",
    "models.append(YOLO('yolov8x.pt').to('cuda'))"
   ]
  },
  {
   "cell_type": "code",
   "execution_count": 3,
   "metadata": {},
   "outputs": [],
   "source": [
    "def extractNamesAndCreateSeries(models):\n",
    "    '''\n",
    "        ### extractNamesAndCreateSeries\n",
    "        removes \".pt\" from YOLO models' names and creates Series with corresponding indices\n",
    "\n",
    "        :param models: list of models to perform speed tests on\n",
    "        \n",
    "        :return modelNames: list of models' names without \".pt\"\n",
    "        :return timeResults: empty Series with index names as model names\n",
    "    '''\n",
    "    modelNames = []\n",
    "    for model in models:\n",
    "        modelNames.append(model.model_name.split(\".\")[0])\n",
    "    timeResults = pd.Series(index=modelNames)\n",
    "    return modelNames, timeResults"
   ]
  },
  {
   "cell_type": "code",
   "execution_count": 4,
   "metadata": {},
   "outputs": [],
   "source": [
    "def measureTime(model, modelName, batchSize, pathsToImgs):\n",
    "    '''\n",
    "        ### measureTime\n",
    "        Measures time needed for specific model to make predictions for all imgs in the directory in batches\n",
    "        of certain size.\n",
    "\n",
    "        :param model: the YOLO model for which to run speed test\n",
    "        :param modelName: the name of the model (for visual purposes)\n",
    "        :param batchSize: The size of a batch for dividing the dataset in smaller parts.\n",
    "        :param pathsToImgs: a list with paths to imgs. (e.g. result of preprocFuncs.providePathsToImages)\n",
    "\n",
    "        :return: time needed for performing such test in seconds\n",
    "    '''\n",
    "    noBatches = m.ceil(len(pathsToImgs) / batchSize)\n",
    "    t0 = time.time()\n",
    "    for i in tqdm(range(0,noBatches), desc=f\"{modelName}: \"):\n",
    "        start = i * batchSize\n",
    "        end = (start + batchSize) if (start + batchSize) < len(pathsToImgs) else len(pathsToImgs)\n",
    "        results = model.predict(pathsToImgs[start:end], verbose=False, device=\"0\")\n",
    "    t1 = time.time()\n",
    "    duration = t1 - t0\n",
    "    return duration  "
   ]
  },
  {
   "cell_type": "code",
   "execution_count": 5,
   "metadata": {},
   "outputs": [],
   "source": [
    "def saveSpeedResults(timeResults, path, isTrain, safe=True):\n",
    "    '''\n",
    "        ### saveSpeedResults\n",
    "        Function that saves the Series to .csv file.\n",
    "        \n",
    "        :param timeResults: Series where Indices are modelNames and values are the time needed for\n",
    "        performing the speed test\n",
    "        :param isTrain: Indicates whether tests were performed on Train or Val dataset\n",
    "        :param safe: whether to check if the speedTestResults file exists (when safe=False, the file may be overwritten!)\n",
    "    '''\n",
    "    if(isTrain):\n",
    "        path = path + \"speedTestResults_train.csv\"\n",
    "    else:\n",
    "         path = path + \"speedTestResults_val.csv\"\n",
    "    if(safe):\n",
    "        if(os.path.isfile(path)):\n",
    "            msg = f\"Speed tests results file already exists at \\\"{path}\\\"\"\n",
    "            raise Exception(msg)  \n",
    "    timeResults.to_csv(path)"
   ]
  },
  {
   "cell_type": "code",
   "execution_count": 6,
   "metadata": {},
   "outputs": [],
   "source": [
    "def measureTimeForEachModel(models, batchSize, isTrain=False):\n",
    "    '''\n",
    "        ### measureTimeForEachModel\n",
    "        performs speed tests for each model and saves the results in .csv file\n",
    "\n",
    "        :param models: list of YOLO models on which to perform tests\n",
    "        :param batchSize: The size of a batch for dividing the dataset in smaller parts.\n",
    "        :param isTrain: Indicates whether tests should be performed on Train or Val dataset\n",
    "    '''\n",
    "    paths = preprocFuncs.providePaths(isTrain)\n",
    "    modelNames, timeResults = extractNamesAndCreateSeries(models)\n",
    "    pathsToImgs = preprocFuncs.providePathsToImages(paths[\"COCO_IMG_DIR\"])\n",
    "    for id, model in enumerate(models):\n",
    "        duration = measureTime(model, modelNames[id], batchSize, pathsToImgs)\n",
    "        timeResults.loc[modelNames[id]] = duration\n",
    "    saveSpeedResults(timeResults, paths[\"SPEED_RESULTS_DIR\"], isTrain)\n",
    "    return timeResults    "
   ]
  },
  {
   "cell_type": "code",
   "execution_count": 8,
   "metadata": {},
   "outputs": [
    {
     "name": "stderr",
     "output_type": "stream",
     "text": [
      "yolov8n:   0%|          | 0/50 [00:00<?, ?it/s]"
     ]
    },
    {
     "name": "stderr",
     "output_type": "stream",
     "text": [
      "yolov8n: 100%|██████████| 50/50 [00:58<00:00,  1.18s/it]\n",
      "yolov8s: 100%|██████████| 50/50 [01:16<00:00,  1.52s/it]\n"
     ]
    }
   ],
   "source": [
    "timeResults = measureTimeForEachModel(models, 100)"
   ]
  }
 ],
 "metadata": {
  "kernelspec": {
   "display_name": "MLenv",
   "language": "python",
   "name": "python3"
  },
  "language_info": {
   "codemirror_mode": {
    "name": "ipython",
    "version": 3
   },
   "file_extension": ".py",
   "mimetype": "text/x-python",
   "name": "python",
   "nbconvert_exporter": "python",
   "pygments_lexer": "ipython3",
   "version": "3.10.12"
  }
 },
 "nbformat": 4,
 "nbformat_minor": 2
}
